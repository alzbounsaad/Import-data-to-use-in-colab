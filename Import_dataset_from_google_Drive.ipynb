{
  "nbformat": 4,
  "nbformat_minor": 0,
  "metadata": {
    "colab": {
      "name": "Import-dataset-from-google-Drive.ipynb",
      "version": "0.3.2",
      "provenance": []
    },
    "kernelspec": {
      "name": "python3",
      "display_name": "Python 3"
    }
  },
  "cells": [
    {
      "cell_type": "code",
      "metadata": {
        "id": "1qmu0uv-5xvt",
        "colab_type": "code",
        "colab": {}
      },
      "source": [
        "# First you need to mount your drive account using the following code:\n",
        "\n",
        "from google.colab import drive\n",
        "drive.mount('/content/gdrive')"
      ],
      "execution_count": 0,
      "outputs": []
    },
    {
      "cell_type": "code",
      "metadata": {
        "id": "co7akXVt7PNS",
        "colab_type": "code",
        "colab": {}
      },
      "source": [
        "#Second you need to sign in with google drive account you want to use with Colab"
      ],
      "execution_count": 0,
      "outputs": []
    },
    {
      "cell_type": "code",
      "metadata": {
        "id": "2oUS7NPb7tsG",
        "colab_type": "code",
        "colab": {}
      },
      "source": [
        "# Third to access to your files from Google Drive in Google Colab you need to use the following path:\n",
        "\n",
        "#     /content/gdrive/My Drive/<folder/file>\n",
        "\n",
        "# Where all files are located inside (My Drive) Folder"
      ],
      "execution_count": 0,
      "outputs": []
    },
    {
      "cell_type": "code",
      "metadata": {
        "id": "eC65pEDg7bSW",
        "colab_type": "code",
        "colab": {}
      },
      "source": [
        "#Forth to extract files inside colab you need to use the following commands:\n",
        "\n",
        "#  1- To extract data from ZIP file: \n",
        "#      !unzip <file name> -d <directory  name>    \n",
        "\n",
        "#  2- To extract data from RAR file:\n",
        "#      !get_ipython().system_raw(\"unrar x <file_name>\")\n",
        "\n",
        "#  3- To extract data from files like this (train.zip.01, train.zip.02, .... etc.)\n",
        "#     a- you need to combine all zipped file togother using the following command: cat test.zip.01 > <new file name for all zipped files>\n",
        "#     b- extract the new zipped file using command :  !unzip <new file name for all zipped files> -d <directory  name>"
      ],
      "execution_count": 0,
      "outputs": []
    }
  ]
}