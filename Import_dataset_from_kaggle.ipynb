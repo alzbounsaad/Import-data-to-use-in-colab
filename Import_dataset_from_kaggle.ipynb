{
  "nbformat": 4,
  "nbformat_minor": 0,
  "metadata": {
    "colab": {
      "name": "Import-dataset-from-kaggle.ipynb",
      "version": "0.3.2",
      "provenance": []
    },
    "kernelspec": {
      "name": "python3",
      "display_name": "Python 3"
    }
  },
  "cells": [
    {
      "cell_type": "code",
      "metadata": {
        "id": "1qmu0uv-5xvt",
        "colab_type": "code",
        "colab": {}
      },
      "source": [
        "# First you need to install kaggle depenencies using the following command\n",
        "\n",
        "!pip install kaggle"
      ],
      "execution_count": 0,
      "outputs": []
    },
    {
      "cell_type": "code",
      "metadata": {
        "id": "co7akXVt7PNS",
        "colab_type": "code",
        "colab": {}
      },
      "source": [
        "#Second you need to upload the credentials of your kaggle account which consist of the username and key, using the following code:\n",
        "\n",
        "from google.colab import files\n",
        "files.upload()\n",
        "\n",
        "\n",
        "# To download the credentials file follow these steps:\n",
        "  \n",
        "#  1- Sign in with kaggle account.\n",
        "#  2- From the left side of kaggle page click in the profile photo and select (My account).\n",
        "#  3- From my account search for (Create New API Token) \n",
        "#  4- After press the (Create New API Token) the credentials JSON file will downloaded. "
      ],
      "execution_count": 0,
      "outputs": []
    },
    {
      "cell_type": "code",
      "metadata": {
        "id": "2oUS7NPb7tsG",
        "colab_type": "code",
        "colab": {}
      },
      "source": [
        "# Third before importing the dataset we want to use this code\n",
        "# The Kaggle API client expects this file to be in ~/.kaggle,\n",
        "\n",
        "!mkdir -p ~/.kaggle\n",
        "!cp kaggle.json ~/.kaggle/\n",
        "\n",
        "# This permissions change avoids a warning on Kaggle tool startup.\n",
        "!chmod 600 ~/.kaggle/kaggle.json"
      ],
      "execution_count": 0,
      "outputs": []
    },
    {
      "cell_type": "code",
      "metadata": {
        "id": "eC65pEDg7bSW",
        "colab_type": "code",
        "colab": {}
      },
      "source": [
        "#Forth import the dataset we want to use for our project using the dataset API that the kaggle provided\n",
        "\n",
        "!kaggle competitions download -c house-prices-advanced-regression-techniques"
      ],
      "execution_count": 0,
      "outputs": []
    }
  ]
}