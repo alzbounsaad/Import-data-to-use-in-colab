{
  "nbformat": 4,
  "nbformat_minor": 0,
  "metadata": {
    "colab": {
      "name": "Import_files_from_Webpage.ipynb",
      "version": "0.3.2",
      "provenance": []
    },
    "kernelspec": {
      "name": "python3",
      "display_name": "Python 3"
    }
  },
  "cells": [
    {
      "cell_type": "code",
      "metadata": {
        "id": "A7fKVjN9foxf",
        "colab_type": "code",
        "colab": {}
      },
      "source": [
        "# Use the following command to import data from specific webpage:\n",
        "\n",
        "#   !wget   <Webpage URL>"
      ],
      "execution_count": 0,
      "outputs": []
    },
    {
      "cell_type": "code",
      "metadata": {
        "id": "eC65pEDg7bSW",
        "colab_type": "code",
        "colab": {}
      },
      "source": [
        "# To extract files inside colab you need to use the following commands:\n",
        "\n",
        "#  1- To extract data from ZIP file: \n",
        "#      !unzip <file name> -d <directory  name>    \n",
        "\n",
        "#  2- To extract data from RAR file:\n",
        "#      !get_ipython().system_raw(\"unrar x <file_name>\")\n",
        "\n",
        "#  3- To extract data from files like this (train.zip.01, train.zip.02, .... etc.)\n",
        "#     a- you need to combine all zipped file togother using the following command: cat test.zip.01 > <new file name for all zipped files>\n",
        "#     b- extract the new zipped file using command :  !unzip <new file name for all zipped files> -d <directory  name>"
      ],
      "execution_count": 0,
      "outputs": []
    }
  ]
}